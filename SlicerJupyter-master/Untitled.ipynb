{
 "cells": [
  {
   "cell_type": "code",
   "execution_count": 1,
   "id": "c0e24740",
   "metadata": {},
   "outputs": [
    {
     "data": {
      "image/png": "[encoded data removed]",
      "text/plain": [
       "<JupyterNotebooksLib.display.ViewDisplay at 0x1578750a0>"
      ]
     },
     "execution_count": 1,
     "metadata": {},
     "output_type": "execute_result"
    }
   ],
   "source": [
    "import JupyterNotebooksLib as slicernb\n",
    "slicernb.ViewDisplay()"
   ]
  },
  {
   "cell_type": "code",
   "execution_count": 2,
   "id": "e6bf8495",
   "metadata": {},
   "outputs": [
    {
     "data": {
      "application/vnd.jupyter.widget-view+json": {
       "model_id": "6e0cd4a767f74c79adb4b4b98a76c4fc",
       "version_major": 2,
       "version_minor": 0
      },
      "text/plain": [
       "ViewInteractiveWidget(height=123, width=205)"
      ]
     },
     "execution_count": 2,
     "metadata": {},
     "output_type": "execute_result"
    }
   ],
   "source": [
    "slicernb.ViewInteractiveWidget()"
   ]
  },
  {
   "cell_type": "code",
   "execution_count": 3,
   "id": "998d6071",
   "metadata": {},
   "outputs": [
    {
     "ename": "<class 'NameError'>",
     "evalue": "name 'slicer' is not defined",
     "output_type": "error",
     "traceback": [
      "\u001b[0;31m---------------------------------------------------------------------------\u001b[0m",
      "\u001b[0;31mNameError\u001b[0m                                 Traceback (most recent call last)",
      "Cell \u001b[0;32mIn[3], line 1\u001b[0m\n\u001b[0;32m----> 1\u001b[0m \u001b[43mslicer\u001b[49m\u001b[38;5;241m.\u001b[39mutil\u001b[38;5;241m.\u001b[39mgetNodes\n",
      "\u001b[0;31mNameError\u001b[0m: name 'slicer' is not defined"
     ]
    }
   ],
   "source": [
    "sli"
   ]
  },
  {
   "cell_type": "code",
   "execution_count": null,
   "id": "84ab15b7",
   "metadata": {},
   "outputs": [],
   "source": []
  }
 ],
 "metadata": {
  "kernelspec": {
   "display_name": "Slicer 5.3",
   "language": "python",
   "name": "slicer-5.3"
  },
  "language_info": {
   "file_extension": ".py",
   "mimetype": "text/x-python",
   "name": "python",
   "version": "3.9.10"
  }
 },
 "nbformat": 4,
 "nbformat_minor": 5
}
